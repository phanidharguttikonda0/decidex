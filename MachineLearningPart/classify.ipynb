{
 "cells": [
  {
   "cell_type": "code",
   "execution_count": 2,
   "metadata": {},
   "outputs": [
    {
     "data": {
      "text/plain": [
       "(7600, 3)"
      ]
     },
     "execution_count": 2,
     "metadata": {},
     "output_type": "execute_result"
    }
   ],
   "source": [
    "import pandas as pd\n",
    "df = pd.read_csv('./test.csv')\n",
    "df.shape"
   ]
  },
  {
   "cell_type": "code",
   "execution_count": 6,
   "metadata": {},
   "outputs": [
    {
     "ename": "ModuleNotFoundError",
     "evalue": "No module named 'sklearn'",
     "output_type": "error",
     "traceback": [
      "\u001b[1;31m---------------------------------------------------------------------------\u001b[0m",
      "\u001b[1;31mModuleNotFoundError\u001b[0m                       Traceback (most recent call last)",
      "Cell \u001b[1;32mIn[6], line 2\u001b[0m\n\u001b[0;32m      1\u001b[0m \u001b[38;5;28;01mimport\u001b[39;00m \u001b[38;5;21;01mpandas\u001b[39;00m \u001b[38;5;28;01mas\u001b[39;00m \u001b[38;5;21;01mpd\u001b[39;00m\n\u001b[1;32m----> 2\u001b[0m \u001b[38;5;28;01mfrom\u001b[39;00m \u001b[38;5;21;01msklearn\u001b[39;00m\u001b[38;5;21;01m.\u001b[39;00m\u001b[38;5;21;01mmodel_selection\u001b[39;00m \u001b[38;5;28;01mimport\u001b[39;00m train_test_split\n\u001b[0;32m      3\u001b[0m \u001b[38;5;28;01mfrom\u001b[39;00m \u001b[38;5;21;01msklearn\u001b[39;00m\u001b[38;5;21;01m.\u001b[39;00m\u001b[38;5;21;01mfeature_extraction\u001b[39;00m\u001b[38;5;21;01m.\u001b[39;00m\u001b[38;5;21;01mtext\u001b[39;00m \u001b[38;5;28;01mimport\u001b[39;00m TfidfVectorizer\n\u001b[0;32m      4\u001b[0m \u001b[38;5;28;01mfrom\u001b[39;00m \u001b[38;5;21;01msklearn\u001b[39;00m\u001b[38;5;21;01m.\u001b[39;00m\u001b[38;5;21;01mnaive_bayes\u001b[39;00m \u001b[38;5;28;01mimport\u001b[39;00m MultinomialNB\n",
      "\u001b[1;31mModuleNotFoundError\u001b[0m: No module named 'sklearn'"
     ]
    }
   ],
   "source": [
    "import pandas as pd\n",
    "from sklearn.model_selection import train_test_split\n",
    "from sklearn.feature_extraction.text import TfidfVectorizer\n",
    "from sklearn.naive_bayes import MultinomialNB\n",
    "from sklearn.metrics import accuracy_score, classification_report\n",
    "\n",
    "# Load the AG News Dataset\n",
    "df = pd.read_csv('train.csv')\n",
    "\n",
    "# Display the column names in the dataset\n",
    "print(df.columns)\n",
    "\n",
    "# Choose the appropriate column names for text and labels based on your dataset\n",
    "text_column = 'Title'  # Change 'title' to the actual text column name in your dataset\n",
    "label_column = 'Class Index'  # Change 'class index' to the actual label column name in your dataset\n",
    "\n",
    "# Define the categories\n",
    "# categories = {\n",
    "#     1: 'Society_Culture',\n",
    "#     2: 'Science & Mathematics',\n",
    "#     3: 'Health',\n",
    "#     4: 'Education & Reference',\n",
    "#     5: 'Computers & Internet',\n",
    "#     6: 'Sports',\n",
    "#     7: 'Business & Finance',\n",
    "#     8: 'Entertainment & Music',\n",
    "#     9: 'Family & Relationships',\n",
    "#     10: 'Politics & Government'\n",
    "# }\n",
    "# Define the categories\n",
    "categories = {\n",
    "    1: 'World',\n",
    "    2: 'Sports',\n",
    "    3: 'Business',\n",
    "    4: 'Science/Technology'\n",
    "}\n",
    "\n",
    "# Split the dataset into training and testing sets\n",
    "X_train, X_test, y_train, y_test = train_test_split(df[text_column], df[label_column], test_size=0.2, random_state=42)\n",
    "\n",
    "# Vectorize the text data using TF-IDF\n",
    "vectorizer = TfidfVectorizer()\n",
    "X_train_vectorized = vectorizer.fit_transform(X_train)\n",
    "X_test_vectorized = vectorizer.transform(X_test)\n",
    "\n",
    "# Train a Naive Bayes classifier\n",
    "classifier = MultinomialNB()\n",
    "classifier.fit(X_train_vectorized, y_train)\n",
    "\n",
    "# Make predictions on the test set\n",
    "y_pred = classifier.predict(X_test_vectorized)\n",
    "\n",
    "# Evaluate the model\n",
    "accuracy = accuracy_score(y_test, y_pred)\n",
    "print(f'Accuracy: {accuracy:.2f}')\n",
    "\n",
    "# Print classification report\n",
    "print(classification_report(y_test, y_pred, target_names=[categories[i] for i in sorted(categories)]))\n"
   ]
  },
  {
   "cell_type": "code",
   "execution_count": 7,
   "metadata": {},
   "outputs": [
    {
     "name": "stdout",
     "output_type": "stream",
     "text": [
      "Statement: Researchers have developed a groundbreaking artificial intelligence system that can accurately predict disease outbreaks.\n",
      "Predicted Category: Science/Technology\n",
      "\n",
      "Statement: The latest advancements in quantum computing are revolutionizing the field of cryptography.\n",
      "Predicted Category: Science/Technology\n",
      "\n",
      "Statement: SpaceX, the private aerospace manufacturer, successfully launched a series of satellites into orbit for global internet coverage.\n",
      "Predicted Category: Science/Technology\n",
      "\n",
      "Statement: A team of scientists has discovered a potential cure for a rare genetic disorder using gene-editing technology.\n",
      "Predicted Category: Science/Technology\n",
      "\n"
     ]
    }
   ],
   "source": [
    "# New complex statement\n",
    "new_complex_statement = [\n",
    "    \"Researchers have developed a groundbreaking artificial intelligence system that can accurately predict disease outbreaks.\",\n",
    "    \"The latest advancements in quantum computing are revolutionizing the field of cryptography.\",\n",
    "    \"SpaceX, the private aerospace manufacturer, successfully launched a series of satellites into orbit for global internet coverage.\",\n",
    "    \"A team of scientists has discovered a potential cure for a rare genetic disorder using gene-editing technology.\"\n",
    "]\n",
    "\n",
    "# Vectorize the new complex statement using the same TF-IDF vectorizer\n",
    "new_complex_statement_vectorized = vectorizer.transform(new_complex_statement)\n",
    "\n",
    "# Make predictions on the new complex statement\n",
    "predicted_categories = classifier.predict(new_complex_statement_vectorized)\n",
    "\n",
    "# Map the predicted category indices to the corresponding category names\n",
    "predicted_category_names = [categories[prediction] for prediction in predicted_categories]\n",
    "\n",
    "# Print the predicted categories\n",
    "for statement, predicted_category_name in zip(new_complex_statement, predicted_category_names):\n",
    "    print(f'Statement: {statement}\\nPredicted Category: {predicted_category_name}\\n')\n"
   ]
  }
 ],
 "metadata": {
  "kernelspec": {
   "display_name": "Python 3",
   "language": "python",
   "name": "python3"
  },
  "language_info": {
   "codemirror_mode": {
    "name": "ipython",
    "version": 3
   },
   "file_extension": ".py",
   "mimetype": "text/x-python",
   "name": "python",
   "nbconvert_exporter": "python",
   "pygments_lexer": "ipython3",
   "version": "3.11.7"
  }
 },
 "nbformat": 4,
 "nbformat_minor": 2
}
